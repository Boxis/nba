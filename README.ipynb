{
 "cells": [
  {
   "cell_type": "markdown",
   "metadata": {},
   "source": [
    "# test\n",
    "\n",
    "Replacing the vanilla `Readme.md` file with an `.ipynb` file to have more flexibility with `Markdown`, allowing LaTeX formulas ($ \\sqrt{64} = \\pm 8 $) to be inserted into documentation.\n",
    "\n",
    "Play around with datas and make colorful graphs/charts.\n",
    "\n",
    "**Data source**\n",
    "[kaggle](https://www.kaggle.com/drgilermo/nba-players-stats)\n",
    "\n",
    "## Don't be a tool be a:\n",
    "* python \n",
    "  * pandas\n",
    "* juypter notebook?\n",
    "* visualizations:\n",
    "  * tableau\n",
    "  * matplotlib?\n",
    "* tool shed\n",
    "\n",
    "Goals:\n",
    "1. Data exploration and pre-processing\n",
    "2. Build different types of models and optimize their parameters and hyperparameters\n",
    "3. Understand drivers of the models and create a dashboard for them\n",
    "4. Compare different models and create a dashboard for model comparison\n",
    "    1. Determine appropriate metrics to measure models by\n",
    "5. ???\n",
    "6. Profit"
   ]
  },
  {
   "cell_type": "code",
   "execution_count": null,
   "metadata": {},
   "outputs": [],
   "source": []
  }
 ],
 "metadata": {
  "kernelspec": {
   "display_name": "Python 3",
   "language": "python",
   "name": "python3"
  },
  "language_info": {
   "codemirror_mode": {
    "name": "ipython",
    "version": 3
   },
   "file_extension": ".py",
   "mimetype": "text/x-python",
   "name": "python",
   "nbconvert_exporter": "python",
   "pygments_lexer": "ipython3",
   "version": "3.7.1"
  }
 },
 "nbformat": 4,
 "nbformat_minor": 2
}
