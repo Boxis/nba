{
 "nbformat": 4,
 "nbformat_minor": 2,
 "metadata": {
  "language_info": {
   "name": "python",
   "codemirror_mode": {
    "name": "ipython",
    "version": 3
   },
   "version": "3.8.1-final"
  },
  "orig_nbformat": 2,
  "file_extension": ".py",
  "mimetype": "text/x-python",
  "name": "python",
  "npconvert_exporter": "python",
  "pygments_lexer": "ipython3",
  "version": 3,
  "kernelspec": {
   "name": "python38164bitf5b9c9ce20f7438d89fa1ee0246b63e7",
   "display_name": "Python 3.8.1 64-bit"
  }
 },
 "cells": [
  {
   "cell_type": "code",
   "execution_count": 6,
   "metadata": {},
   "outputs": [],
   "source": [
    "import pandas as pd\n",
    "\n",
    "player_data = pd.read_csv(\"datasets/player_data.csv\")\n",
    "players = pd.read_csv(\"datasets/Players.csv\")\n",
    "season_stats = pd.read_csv(\"datasets/Seasons_Stats.csv\")"
   ]
  },
  {
   "cell_type": "markdown",
   "execution_count": 2,
   "metadata": {},
   "outputs": [],
   "source": [
    "Looked at `player_data`. All the information can be found in `players` or `season_stats`.\n",
    "\n",
    "In `players`, the only relevant column is college. The other columns contain information in `season_stats` or could possibly cause data leakage.\n",
    "\n",
    "I renamed `collage` to `college` within the players database."
   ]
  },
  {
   "cell_type": "code",
   "execution_count": 17,
   "metadata": {},
   "outputs": [],
   "source": [
    "players = pd.DataFrame.rename(players, columns = {\"collage\":\"college\"})"
   ]
  },
  {
   "cell_type": "code",
   "execution_count": 18,
   "metadata": {},
   "outputs": [],
   "source": [
    "players = players.drop(labels = [\"height\", \"weight\", \"born\", \"birth_city\", \"birth_state\"],axis = 1)"
   ]
  },
  {
   "cell_type": "markdown",
   "execution_count": null,
   "metadata": {},
   "outputs": [],
   "source": []
  },
  {
   "cell_type": "code",
   "execution_count": 23,
   "metadata": {},
   "outputs": [],
   "source": [
    "season_stats = pd.merge(season_stats, players, on = \"Player\", how = \"left\")"
   ]
  }
 ]
}