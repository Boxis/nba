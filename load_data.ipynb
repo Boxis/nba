{
 "nbformat": 4,
 "nbformat_minor": 2,
 "metadata": {
  "language_info": {
   "name": "python",
   "codemirror_mode": {
    "name": "ipython",
    "version": 3
   },
   "version": "3.8.1-final"
  },
  "orig_nbformat": 2,
  "file_extension": ".py",
  "mimetype": "text/x-python",
  "name": "python",
  "npconvert_exporter": "python",
  "pygments_lexer": "ipython3",
  "version": 3,
  "kernelspec": {
   "name": "python38164bitf5b9c9ce20f7438d89fa1ee0246b63e7",
   "display_name": "Python 3.8.1 64-bit"
  }
 },
 "cells": [
  {
   "cell_type": "code",
   "execution_count": 2,
   "metadata": {},
   "outputs": [],
   "source": [
    "import pandas as pd\n",
    "\n",
    "player_data = pd.read_csv(\"datasets/player_data.csv\")\n",
    "players = pd.read_csv(\"datasets/Players.csv\")\n",
    "season_stats = pd.read_csv(\"datasets/Seasons_Stats.csv\")"
   ]
  },
  {
   "cell_type": "markdown",
   "execution_count": 2,
   "metadata": {},
   "outputs": [],
   "source": [
    "Looked at `player_data`. All the information can be found in `players` or `season_stats`.\n",
    "\n",
    "In `players`, the only relevant column is college. The other columns contain information in `season_stats` or could possibly cause data leakage.\n",
    "\n",
    "I renamed `collage` to `college` within the `players` database."
   ]
  },
  {
   "cell_type": "code",
   "execution_count": 3,
   "metadata": {},
   "outputs": [],
   "source": [
    "players = pd.DataFrame.rename(players, columns = {\"collage\":\"college\"})"
   ]
  },
  {
   "cell_type": "code",
   "execution_count": 4,
   "metadata": {},
   "outputs": [],
   "source": [
    "players = players.drop(labels = [\"height\", \"weight\", \"born\", \"birth_city\", \"birth_state\"],axis = 1)"
   ]
  },
  {
   "cell_type": "markdown",
   "execution_count": null,
   "metadata": {},
   "outputs": [],
   "source": [
    "I merged `players` data into `season_stats` based on player name."
   ]
  },
  {
   "cell_type": "code",
   "execution_count": 5,
   "metadata": {},
   "outputs": [],
   "source": [
    "season_stats = pd.merge(season_stats, players, on = \"Player\", how = \"left\")"
   ]
  },
  {
   "cell_type": "code",
   "execution_count": 6,
   "metadata": {},
   "outputs": [
    {
     "data": {
      "text/plain": "['Unnamed: 0_x',\n 'Year',\n 'Player',\n 'Pos',\n 'Age',\n 'Tm',\n 'G',\n 'GS',\n 'MP',\n 'PER',\n 'TS%',\n '3PAr',\n 'FTr',\n 'ORB%',\n 'DRB%',\n 'TRB%',\n 'AST%',\n 'STL%',\n 'BLK%',\n 'TOV%',\n 'USG%',\n 'blanl',\n 'OWS',\n 'DWS',\n 'WS',\n 'WS/48',\n 'blank2',\n 'OBPM',\n 'DBPM',\n 'BPM',\n 'VORP',\n 'FG',\n 'FGA',\n 'FG%',\n '3P',\n '3PA',\n '3P%',\n '2P',\n '2PA',\n '2P%',\n 'eFG%',\n 'FT',\n 'FTA',\n 'FT%',\n 'ORB',\n 'DRB',\n 'TRB',\n 'AST',\n 'STL',\n 'BLK',\n 'TOV',\n 'PF',\n 'PTS',\n 'Unnamed: 0_y',\n 'college']"
     },
     "execution_count": 6,
     "metadata": {},
     "output_type": "execute_result"
    }
   ],
   "source": [
    "list(season_stats)"
   ]
  },
  {
   "cell_type": "markdown",
   "execution_count": null,
   "metadata": {},
   "outputs": [],
   "source": [
    "Drop useless indices."
   ]
  },
  {
   "cell_type": "code",
   "execution_count": 8,
   "metadata": {},
   "outputs": [],
   "source": [
    "season_stats = season_stats.drop(labels = [\"Unnamed: 0_x\", \"Unnamed: 0_y\"], axis = 1)"
   ]
  },
  {
   "cell_type": "markdown",
   "execution_count": null,
   "metadata": {},
   "outputs": [],
   "source": [
    "Need to figure out what to look at within this dataset"
   ]
  }
 ]
}