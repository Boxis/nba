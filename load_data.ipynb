{
 "nbformat": 4,
 "nbformat_minor": 2,
 "metadata": {
  "language_info": {
   "name": "python",
   "codemirror_mode": {
    "name": "ipython",
    "version": 3
   },
   "version": "3.8.1-final"
  },
  "orig_nbformat": 2,
  "file_extension": ".py",
  "mimetype": "text/x-python",
  "name": "python",
  "npconvert_exporter": "python",
  "pygments_lexer": "ipython3",
  "version": 3,
  "kernelspec": {
   "name": "python38164bitf5b9c9ce20f7438d89fa1ee0246b63e7",
   "display_name": "Python 3.8.1 64-bit"
  }
 },
 "cells": [
  {
   "cell_type": "code",
   "execution_count": 1,
   "metadata": {},
   "outputs": [],
   "source": [
    "import pandas as pd\n",
    "\n",
    "player_data = pd.read_csv(\"datasets/player_data.csv\")\n",
    "players = pd.read_csv(\"datasets/Players.csv\")\n",
    "season_stats = pd.read_csv(\"datasets/Seasons_Stats.csv\")"
   ]
  },
  {
   "cell_type": "markdown",
   "execution_count": null,
   "metadata": {},
   "outputs": [],
   "source": [
    "Looked at `player_data`. All the information can be found in `players` or `season_stats`.\n",
    "\n",
    "In `players`, the only relevant column is college. The other columns contain information in `season_stats` or could possibly cause data leakage.\n",
    "\n",
    "I renamed `collage` to `college` within the `players` database."
   ]
  },
  {
   "cell_type": "code",
   "execution_count": 2,
   "metadata": {},
   "outputs": [],
   "source": [
    "players = pd.DataFrame.rename(players, columns = {\"collage\":\"college\"})"
   ]
  },
  {
   "cell_type": "code",
   "execution_count": 4,
   "metadata": {},
   "outputs": [],
   "source": [
    "players = players.drop(labels = [\"height\", \"born\", \"birth_city\", \"birth_state\"],axis = 1)"
   ]
  },
  {
   "cell_type": "markdown",
   "execution_count": null,
   "metadata": {},
   "outputs": [],
   "source": [
    "I merged `players` data into `season_stats` based on player name."
   ]
  },
  {
   "cell_type": "code",
   "execution_count": 3,
   "metadata": {},
   "outputs": [],
   "source": [
    "season_stats = pd.merge(season_stats, players, on = \"Player\", how = \"left\")"
   ]
  },
  {
   "cell_type": "code",
   "execution_count": 5,
   "metadata": {},
   "outputs": [
    {
     "output_type": "execute_result",
     "data": {
      "text/plain": "['Unnamed: 0_x',\n 'Year',\n 'Player',\n 'Pos',\n 'Age',\n 'Tm',\n 'G',\n 'GS',\n 'MP',\n 'PER',\n 'TS%',\n '3PAr',\n 'FTr',\n 'ORB%',\n 'DRB%',\n 'TRB%',\n 'AST%',\n 'STL%',\n 'BLK%',\n 'TOV%',\n 'USG%',\n 'blanl',\n 'OWS',\n 'DWS',\n 'WS',\n 'WS/48',\n 'blank2',\n 'OBPM',\n 'DBPM',\n 'BPM',\n 'VORP',\n 'FG',\n 'FGA',\n 'FG%',\n '3P',\n '3PA',\n '3P%',\n '2P',\n '2PA',\n '2P%',\n 'eFG%',\n 'FT',\n 'FTA',\n 'FT%',\n 'ORB',\n 'DRB',\n 'TRB',\n 'AST',\n 'STL',\n 'BLK',\n 'TOV',\n 'PF',\n 'PTS',\n 'Unnamed: 0_y',\n 'height',\n 'weight',\n 'college',\n 'born',\n 'birth_city',\n 'birth_state']"
     },
     "metadata": {},
     "execution_count": 5
    }
   ],
   "source": [
    "list(season_stats)"
   ]
  },
  {
   "cell_type": "markdown",
   "execution_count": null,
   "metadata": {},
   "outputs": [],
   "source": [
    "Drop useless indices."
   ]
  },
  {
   "cell_type": "code",
   "execution_count": 6,
   "metadata": {},
   "outputs": [],
   "source": [
    "season_stats = season_stats.drop(labels = [\"Unnamed: 0_x\", \"Unnamed: 0_y\"], axis = 1)"
   ]
  },
  {
   "cell_type": "markdown",
   "execution_count": null,
   "metadata": {},
   "outputs": [],
   "source": [
    "Check for high cardinality variables"
   ]
  },
  {
   "cell_type": "code",
   "execution_count": 7,
   "metadata": {},
   "outputs": [
    {
     "output_type": "execute_result",
     "data": {
      "text/plain": "['Player', 'Pos', 'Tm', 'college', 'birth_city', 'birth_state']"
     },
     "metadata": {},
     "execution_count": 7
    }
   ],
   "source": [
    "high_cardinal_vars = [categ_vars for categ_vars in season_stats.columns.values if season_stats[categ_vars].dtype == \"object\"]\n",
    "high_cardinal_vars"
   ]
  },
  {
   "cell_type": "code",
   "execution_count": 8,
   "metadata": {},
   "outputs": [],
   "source": [
    "season_stats = season_stats.drop(labels = [\"college\"], axis = 1)"
   ]
  },
  {
   "cell_type": "markdown",
   "execution_count": null,
   "metadata": {},
   "outputs": [],
   "source": [
    "We want to keep the player name to see who it is!"
   ]
  },
  {
   "cell_type": "code",
   "execution_count": 9,
   "metadata": {},
   "outputs": [
    {
     "output_type": "execute_result",
     "data": {
      "text/plain": "     Year           Player  Pos   Age   Tm     G  GS  MP  PER    TS%  3PAr  \\\n0  1950.0  Curly Armstrong  G-F  31.0  FTW  63.0 NaN NaN  NaN  0.368   NaN   \n1  1950.0     Cliff Barker   SG  29.0  INO  49.0 NaN NaN  NaN  0.435   NaN   \n2  1950.0    Leo Barnhorst   SF  25.0  CHS  67.0 NaN NaN  NaN  0.394   NaN   \n3  1950.0       Ed Bartels    F  24.0  TOT  15.0 NaN NaN  NaN  0.312   NaN   \n4  1950.0       Ed Bartels    F  24.0  DNN  13.0 NaN NaN  NaN  0.308   NaN   \n\n     FTr  ORB%  DRB%  TRB%  AST%  STL%  BLK%  TOV%  USG%  blanl  OWS  DWS  \\\n0  0.467   NaN   NaN   NaN   NaN   NaN   NaN   NaN   NaN    NaN -0.1  3.6   \n1  0.387   NaN   NaN   NaN   NaN   NaN   NaN   NaN   NaN    NaN  1.6  0.6   \n2  0.259   NaN   NaN   NaN   NaN   NaN   NaN   NaN   NaN    NaN  0.9  2.8   \n3  0.395   NaN   NaN   NaN   NaN   NaN   NaN   NaN   NaN    NaN -0.5 -0.1   \n4  0.378   NaN   NaN   NaN   NaN   NaN   NaN   NaN   NaN    NaN -0.5 -0.1   \n\n    WS  WS/48  blank2  OBPM  DBPM  BPM  VORP     FG    FGA    FG%  3P  3PA  \\\n0  3.5    NaN     NaN   NaN   NaN  NaN   NaN  144.0  516.0  0.279 NaN  NaN   \n1  2.2    NaN     NaN   NaN   NaN  NaN   NaN  102.0  274.0  0.372 NaN  NaN   \n2  3.6    NaN     NaN   NaN   NaN  NaN   NaN  174.0  499.0  0.349 NaN  NaN   \n3 -0.6    NaN     NaN   NaN   NaN  NaN   NaN   22.0   86.0  0.256 NaN  NaN   \n4 -0.6    NaN     NaN   NaN   NaN  NaN   NaN   21.0   82.0  0.256 NaN  NaN   \n\n   3P%     2P    2PA    2P%   eFG%     FT    FTA    FT%  ORB  DRB  TRB    AST  \\\n0  NaN  144.0  516.0  0.279  0.279  170.0  241.0  0.705  NaN  NaN  NaN  176.0   \n1  NaN  102.0  274.0  0.372  0.372   75.0  106.0  0.708  NaN  NaN  NaN  109.0   \n2  NaN  174.0  499.0  0.349  0.349   90.0  129.0  0.698  NaN  NaN  NaN  140.0   \n3  NaN   22.0   86.0  0.256  0.256   19.0   34.0  0.559  NaN  NaN  NaN   20.0   \n4  NaN   21.0   82.0  0.256  0.256   17.0   31.0  0.548  NaN  NaN  NaN   20.0   \n\n   STL  BLK  TOV     PF    PTS  height  weight    born birth_city birth_state  \n0  NaN  NaN  NaN  217.0  458.0   180.0    77.0  1918.0        NaN         NaN  \n1  NaN  NaN  NaN   99.0  279.0   188.0    83.0  1921.0   Yorktown     Indiana  \n2  NaN  NaN  NaN  192.0  438.0   193.0    86.0  1924.0        NaN         NaN  \n3  NaN  NaN  NaN   29.0   63.0   196.0    88.0  1925.0        NaN         NaN  \n4  NaN  NaN  NaN   27.0   59.0   196.0    88.0  1925.0        NaN         NaN  ",
      "text/html": "<div>\n<style scoped>\n    .dataframe tbody tr th:only-of-type {\n        vertical-align: middle;\n    }\n\n    .dataframe tbody tr th {\n        vertical-align: top;\n    }\n\n    .dataframe thead th {\n        text-align: right;\n    }\n</style>\n<table border=\"1\" class=\"dataframe\">\n  <thead>\n    <tr style=\"text-align: right;\">\n      <th></th>\n      <th>Year</th>\n      <th>Player</th>\n      <th>Pos</th>\n      <th>Age</th>\n      <th>Tm</th>\n      <th>G</th>\n      <th>GS</th>\n      <th>MP</th>\n      <th>PER</th>\n      <th>TS%</th>\n      <th>3PAr</th>\n      <th>FTr</th>\n      <th>ORB%</th>\n      <th>DRB%</th>\n      <th>TRB%</th>\n      <th>AST%</th>\n      <th>STL%</th>\n      <th>BLK%</th>\n      <th>TOV%</th>\n      <th>USG%</th>\n      <th>blanl</th>\n      <th>OWS</th>\n      <th>DWS</th>\n      <th>WS</th>\n      <th>WS/48</th>\n      <th>blank2</th>\n      <th>OBPM</th>\n      <th>DBPM</th>\n      <th>BPM</th>\n      <th>VORP</th>\n      <th>FG</th>\n      <th>FGA</th>\n      <th>FG%</th>\n      <th>3P</th>\n      <th>3PA</th>\n      <th>3P%</th>\n      <th>2P</th>\n      <th>2PA</th>\n      <th>2P%</th>\n      <th>eFG%</th>\n      <th>FT</th>\n      <th>FTA</th>\n      <th>FT%</th>\n      <th>ORB</th>\n      <th>DRB</th>\n      <th>TRB</th>\n      <th>AST</th>\n      <th>STL</th>\n      <th>BLK</th>\n      <th>TOV</th>\n      <th>PF</th>\n      <th>PTS</th>\n      <th>height</th>\n      <th>weight</th>\n      <th>born</th>\n      <th>birth_city</th>\n      <th>birth_state</th>\n    </tr>\n  </thead>\n  <tbody>\n    <tr>\n      <th>0</th>\n      <td>1950.0</td>\n      <td>Curly Armstrong</td>\n      <td>G-F</td>\n      <td>31.0</td>\n      <td>FTW</td>\n      <td>63.0</td>\n      <td>NaN</td>\n      <td>NaN</td>\n      <td>NaN</td>\n      <td>0.368</td>\n      <td>NaN</td>\n      <td>0.467</td>\n      <td>NaN</td>\n      <td>NaN</td>\n      <td>NaN</td>\n      <td>NaN</td>\n      <td>NaN</td>\n      <td>NaN</td>\n      <td>NaN</td>\n      <td>NaN</td>\n      <td>NaN</td>\n      <td>-0.1</td>\n      <td>3.6</td>\n      <td>3.5</td>\n      <td>NaN</td>\n      <td>NaN</td>\n      <td>NaN</td>\n      <td>NaN</td>\n      <td>NaN</td>\n      <td>NaN</td>\n      <td>144.0</td>\n      <td>516.0</td>\n      <td>0.279</td>\n      <td>NaN</td>\n      <td>NaN</td>\n      <td>NaN</td>\n      <td>144.0</td>\n      <td>516.0</td>\n      <td>0.279</td>\n      <td>0.279</td>\n      <td>170.0</td>\n      <td>241.0</td>\n      <td>0.705</td>\n      <td>NaN</td>\n      <td>NaN</td>\n      <td>NaN</td>\n      <td>176.0</td>\n      <td>NaN</td>\n      <td>NaN</td>\n      <td>NaN</td>\n      <td>217.0</td>\n      <td>458.0</td>\n      <td>180.0</td>\n      <td>77.0</td>\n      <td>1918.0</td>\n      <td>NaN</td>\n      <td>NaN</td>\n    </tr>\n    <tr>\n      <th>1</th>\n      <td>1950.0</td>\n      <td>Cliff Barker</td>\n      <td>SG</td>\n      <td>29.0</td>\n      <td>INO</td>\n      <td>49.0</td>\n      <td>NaN</td>\n      <td>NaN</td>\n      <td>NaN</td>\n      <td>0.435</td>\n      <td>NaN</td>\n      <td>0.387</td>\n      <td>NaN</td>\n      <td>NaN</td>\n      <td>NaN</td>\n      <td>NaN</td>\n      <td>NaN</td>\n      <td>NaN</td>\n      <td>NaN</td>\n      <td>NaN</td>\n      <td>NaN</td>\n      <td>1.6</td>\n      <td>0.6</td>\n      <td>2.2</td>\n      <td>NaN</td>\n      <td>NaN</td>\n      <td>NaN</td>\n      <td>NaN</td>\n      <td>NaN</td>\n      <td>NaN</td>\n      <td>102.0</td>\n      <td>274.0</td>\n      <td>0.372</td>\n      <td>NaN</td>\n      <td>NaN</td>\n      <td>NaN</td>\n      <td>102.0</td>\n      <td>274.0</td>\n      <td>0.372</td>\n      <td>0.372</td>\n      <td>75.0</td>\n      <td>106.0</td>\n      <td>0.708</td>\n      <td>NaN</td>\n      <td>NaN</td>\n      <td>NaN</td>\n      <td>109.0</td>\n      <td>NaN</td>\n      <td>NaN</td>\n      <td>NaN</td>\n      <td>99.0</td>\n      <td>279.0</td>\n      <td>188.0</td>\n      <td>83.0</td>\n      <td>1921.0</td>\n      <td>Yorktown</td>\n      <td>Indiana</td>\n    </tr>\n    <tr>\n      <th>2</th>\n      <td>1950.0</td>\n      <td>Leo Barnhorst</td>\n      <td>SF</td>\n      <td>25.0</td>\n      <td>CHS</td>\n      <td>67.0</td>\n      <td>NaN</td>\n      <td>NaN</td>\n      <td>NaN</td>\n      <td>0.394</td>\n      <td>NaN</td>\n      <td>0.259</td>\n      <td>NaN</td>\n      <td>NaN</td>\n      <td>NaN</td>\n      <td>NaN</td>\n      <td>NaN</td>\n      <td>NaN</td>\n      <td>NaN</td>\n      <td>NaN</td>\n      <td>NaN</td>\n      <td>0.9</td>\n      <td>2.8</td>\n      <td>3.6</td>\n      <td>NaN</td>\n      <td>NaN</td>\n      <td>NaN</td>\n      <td>NaN</td>\n      <td>NaN</td>\n      <td>NaN</td>\n      <td>174.0</td>\n      <td>499.0</td>\n      <td>0.349</td>\n      <td>NaN</td>\n      <td>NaN</td>\n      <td>NaN</td>\n      <td>174.0</td>\n      <td>499.0</td>\n      <td>0.349</td>\n      <td>0.349</td>\n      <td>90.0</td>\n      <td>129.0</td>\n      <td>0.698</td>\n      <td>NaN</td>\n      <td>NaN</td>\n      <td>NaN</td>\n      <td>140.0</td>\n      <td>NaN</td>\n      <td>NaN</td>\n      <td>NaN</td>\n      <td>192.0</td>\n      <td>438.0</td>\n      <td>193.0</td>\n      <td>86.0</td>\n      <td>1924.0</td>\n      <td>NaN</td>\n      <td>NaN</td>\n    </tr>\n    <tr>\n      <th>3</th>\n      <td>1950.0</td>\n      <td>Ed Bartels</td>\n      <td>F</td>\n      <td>24.0</td>\n      <td>TOT</td>\n      <td>15.0</td>\n      <td>NaN</td>\n      <td>NaN</td>\n      <td>NaN</td>\n      <td>0.312</td>\n      <td>NaN</td>\n      <td>0.395</td>\n      <td>NaN</td>\n      <td>NaN</td>\n      <td>NaN</td>\n      <td>NaN</td>\n      <td>NaN</td>\n      <td>NaN</td>\n      <td>NaN</td>\n      <td>NaN</td>\n      <td>NaN</td>\n      <td>-0.5</td>\n      <td>-0.1</td>\n      <td>-0.6</td>\n      <td>NaN</td>\n      <td>NaN</td>\n      <td>NaN</td>\n      <td>NaN</td>\n      <td>NaN</td>\n      <td>NaN</td>\n      <td>22.0</td>\n      <td>86.0</td>\n      <td>0.256</td>\n      <td>NaN</td>\n      <td>NaN</td>\n      <td>NaN</td>\n      <td>22.0</td>\n      <td>86.0</td>\n      <td>0.256</td>\n      <td>0.256</td>\n      <td>19.0</td>\n      <td>34.0</td>\n      <td>0.559</td>\n      <td>NaN</td>\n      <td>NaN</td>\n      <td>NaN</td>\n      <td>20.0</td>\n      <td>NaN</td>\n      <td>NaN</td>\n      <td>NaN</td>\n      <td>29.0</td>\n      <td>63.0</td>\n      <td>196.0</td>\n      <td>88.0</td>\n      <td>1925.0</td>\n      <td>NaN</td>\n      <td>NaN</td>\n    </tr>\n    <tr>\n      <th>4</th>\n      <td>1950.0</td>\n      <td>Ed Bartels</td>\n      <td>F</td>\n      <td>24.0</td>\n      <td>DNN</td>\n      <td>13.0</td>\n      <td>NaN</td>\n      <td>NaN</td>\n      <td>NaN</td>\n      <td>0.308</td>\n      <td>NaN</td>\n      <td>0.378</td>\n      <td>NaN</td>\n      <td>NaN</td>\n      <td>NaN</td>\n      <td>NaN</td>\n      <td>NaN</td>\n      <td>NaN</td>\n      <td>NaN</td>\n      <td>NaN</td>\n      <td>NaN</td>\n      <td>-0.5</td>\n      <td>-0.1</td>\n      <td>-0.6</td>\n      <td>NaN</td>\n      <td>NaN</td>\n      <td>NaN</td>\n      <td>NaN</td>\n      <td>NaN</td>\n      <td>NaN</td>\n      <td>21.0</td>\n      <td>82.0</td>\n      <td>0.256</td>\n      <td>NaN</td>\n      <td>NaN</td>\n      <td>NaN</td>\n      <td>21.0</td>\n      <td>82.0</td>\n      <td>0.256</td>\n      <td>0.256</td>\n      <td>17.0</td>\n      <td>31.0</td>\n      <td>0.548</td>\n      <td>NaN</td>\n      <td>NaN</td>\n      <td>NaN</td>\n      <td>20.0</td>\n      <td>NaN</td>\n      <td>NaN</td>\n      <td>NaN</td>\n      <td>27.0</td>\n      <td>59.0</td>\n      <td>196.0</td>\n      <td>88.0</td>\n      <td>1925.0</td>\n      <td>NaN</td>\n      <td>NaN</td>\n    </tr>\n  </tbody>\n</table>\n</div>"
     },
     "metadata": {},
     "execution_count": 9
    }
   ],
   "source": [
    "pd.set_option('display.max_columns', None)  \n",
    "season_stats.head()"
   ]
  },
  {
   "cell_type": "code",
   "execution_count": 13,
   "metadata": {},
   "outputs": [],
   "source": [
    "season_stats.to_csv(\"season_stats_merged.csv\", columns=[\"Year\",\"Pos\",\"Age\",\"height\",\"weight\",\"TS%\"])"
   ]
  },
  {
   "cell_type": "code",
   "execution_count": null,
   "metadata": {},
   "outputs": [],
   "source": []
  }
 ]
}