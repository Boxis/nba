{
 "nbformat": 4,
 "nbformat_minor": 2,
 "metadata": {
  "language_info": {
   "name": "python",
   "codemirror_mode": {
    "name": "ipython",
    "version": 3
   },
   "version": "3.8.1-final"
  },
  "orig_nbformat": 2,
  "file_extension": ".py",
  "mimetype": "text/x-python",
  "name": "python",
  "npconvert_exporter": "python",
  "pygments_lexer": "ipython3",
  "version": 3,
  "kernelspec": {
   "name": "python38164bitf5b9c9ce20f7438d89fa1ee0246b63e7",
   "display_name": "Python 3.8.1 64-bit"
  }
 },
 "cells": [
  {
   "source": [
    "import pandas as pd\n",
    "\n",
    "player_data = pd.read_csv(\"datasets/player_data.csv\")\n",
    "players = pd.read_csv(\"datasets/Players.csv\")\n",
    "season_stats = pd.read_csv(\"datasets/Seasons_Stats.csv\")"
   ],
   "cell_type": "code",
   "outputs": [],
   "metadata": {},
   "execution_count": 6
  },
  {
   "cell_type": "markdown",
   "execution_count": 2,
   "metadata": {},
   "outputs": [],
   "source": [
    "import pandas as pd"
   ]
  },
  {
   "source": [
    "players = pd.DataFrame.rename(players, columns = {\"collage\":\"college\"})"
   ],
   "cell_type": "code",
   "outputs": [],
   "metadata": {},
   "execution_count": 17
  },
  {
   "source": [
    "players = players.drop(labels = [\"height\", \"weight\", \"born\", \"birth_city\", \"birth_state\"],axis = 1)"
   ],
   "cell_type": "code",
   "outputs": [],
   "metadata": {},
   "execution_count": 18
  },
  {
   "source": [
    "season_stats = pd.merge(season_stats, players, on = \"Player\", how = \"left\")"
   ],
   "cell_type": "code",
   "outputs": [],
   "metadata": {},
   "execution_count": 23
  },
  {
   "cell_type": "code",
   "execution_count": null,
   "metadata": {},
   "outputs": [],
   "source": []
  }
 ]
}